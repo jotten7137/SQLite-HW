{
 "cells": [
  {
   "cell_type": "code",
   "execution_count": 1,
   "metadata": {},
   "outputs": [],
   "source": [
    "#Dependencies\n",
    "#matplotlib for graphics\n",
    "%matplotlib inline\n",
    "from matplotlib import style\n",
    "style.use('fivethirtyeight')\n",
    "import matplotlib.pyplot as plt"
   ]
  },
  {
   "cell_type": "code",
   "execution_count": 2,
   "metadata": {},
   "outputs": [],
   "source": [
    "#numpy for calc\n",
    "import numpy as np\n",
    "import pandas as pd"
   ]
  },
  {
   "cell_type": "code",
   "execution_count": 3,
   "metadata": {},
   "outputs": [],
   "source": [
    "#datetime for real-time analysis\n",
    "import datetime as dt"
   ]
  },
  {
   "cell_type": "markdown",
   "metadata": {},
   "source": [
    "# Reflect Tables into SQLAlchemy ORM"
   ]
  },
  {
   "cell_type": "code",
   "execution_count": 4,
   "metadata": {},
   "outputs": [],
   "source": [
    "# Python SQL toolkit and Object Relational Mapper\n",
    "import sqlalchemy as sa\n",
    "from sqlalchemy.ext.automap import automap_base\n",
    "from sqlalchemy.orm import Session\n",
    "from sqlalchemy import create_engine, func"
   ]
  },
  {
   "cell_type": "code",
   "execution_count": 5,
   "metadata": {},
   "outputs": [],
   "source": [
    "#Database engine\n",
    "engine = create_engine(\"sqlite:///Resources/hawaii.sqlite\")"
   ]
  },
  {
   "cell_type": "code",
   "execution_count": 6,
   "metadata": {},
   "outputs": [],
   "source": [
    "# reflect an existing database into a new model\n",
    "Base = automap_base()\n",
    "# reflect the tables\n",
    "Base.prepare(engine, reflect=True)"
   ]
  },
  {
   "cell_type": "code",
   "execution_count": 7,
   "metadata": {},
   "outputs": [
    {
     "data": {
      "text/plain": [
       "['measurement', 'station']"
      ]
     },
     "execution_count": 7,
     "metadata": {},
     "output_type": "execute_result"
    }
   ],
   "source": [
    "# We can view all of the classes that automap found\n",
    "Base.classes.keys()"
   ]
  },
  {
   "cell_type": "code",
   "execution_count": 8,
   "metadata": {},
   "outputs": [],
   "source": [
    "# Save references to each table\n",
    "Measurement = Base.classes.measurement\n",
    "Station = Base.classes.station"
   ]
  },
  {
   "cell_type": "code",
   "execution_count": 9,
   "metadata": {},
   "outputs": [],
   "source": [
    "# Create our session (link) from Python to the DB\n",
    "session = Session(engine)"
   ]
  },
  {
   "cell_type": "markdown",
   "metadata": {},
   "source": [
    "# Exploratory Climate Analysis"
   ]
  },
  {
   "cell_type": "code",
   "execution_count": 10,
   "metadata": {
    "scrolled": true
   },
   "outputs": [
    {
     "name": "stdout",
     "output_type": "stream",
     "text": [
      "            Precipitation\n",
      "Date                     \n",
      "2016-08-23           0.00\n",
      "2016-08-24           0.08\n",
      "2016-08-25           0.08\n",
      "2016-08-26           0.00\n",
      "2016-08-27           0.00\n"
     ]
    },
    {
     "data": {
      "image/png": "[encoded data removed]",
      "text/plain": [
       "<Figure size 432x288 with 1 Axes>"
      ]
     },
     "metadata": {
      "needs_background": "light"
     },
     "output_type": "display_data"
    }
   ],
   "source": [
    "# Design a query to retrieve the last 12 months of precipitation data and plot the results\n",
    "# List Capture\n",
    "end_date=\"2017-08-23\"\n",
    "start_date=\"2016-08-23\"\n",
    "measurement_date = []\n",
    "precip = []\n",
    "\n",
    "# Query to retrieve the data and precipitation scores\n",
    "for row in session.query(Measurement.date, Measurement.prcp).\\\n",
    "filter(Measurement.date<=end_date,Measurement.date>= start_date).all(): #1 year of data\n",
    "    #print(row)\n",
    "    measurement_date.append(row[0])\n",
    "    precip.append(row[1])\n",
    "    \n",
    "#print(measurement_date)\n",
    "#print(precip)\n",
    "\n",
    "#Query results to Pandas DataFrame and set the index to the date column\n",
    "precip_df = pd.DataFrame({'Date':measurement_date,'Precipitation':precip})\n",
    "precip_df.set_index('Date',inplace = True)\n",
    "\n",
    "print(precip_df.head())\n",
    "\n",
    "# Use Pandas Plotting with Matplotlib to plot the data\n",
    "precip_df.plot.bar()\n",
    "#plt.tight_layout()\n",
    "plt.show()"
   ]
  },
  {
   "cell_type": "code",
   "execution_count": 12,
   "metadata": {},
   "outputs": [
    {
     "name": "stderr",
     "output_type": "stream",
     "text": [
      "'[precipitation]' is not recognized as an internal or external command,\n",
      "operable program or batch file.\n"
     ]
    }
   ],
   "source": [
    "![precipitation](Images/precipitation.png)"
   ]
  },
  {
   "cell_type": "code",
   "execution_count": 11,
   "metadata": {},
   "outputs": [
    {
     "data": {
      "text/html": [
       "<div>\n",
       "<style scoped>\n",
       "    .dataframe tbody tr th:only-of-type {\n",
       "        vertical-align: middle;\n",
       "    }\n",
       "\n",
       "    .dataframe tbody tr th {\n",
       "        vertical-align: top;\n",
       "    }\n",
       "\n",
       "    .dataframe thead th {\n",
       "        text-align: right;\n",
       "    }\n",
       "</style>\n",
       "<table border=\"1\" class=\"dataframe\">\n",
       "  <thead>\n",
       "    <tr style=\"text-align: right;\">\n",
       "      <th></th>\n",
       "      <th>Precipitation</th>\n",
       "    </tr>\n",
       "  </thead>\n",
       "  <tbody>\n",
       "    <tr>\n",
       "      <th>count</th>\n",
       "      <td>2021.000000</td>\n",
       "    </tr>\n",
       "    <tr>\n",
       "      <th>mean</th>\n",
       "      <td>0.177279</td>\n",
       "    </tr>\n",
       "    <tr>\n",
       "      <th>std</th>\n",
       "      <td>0.461190</td>\n",
       "    </tr>\n",
       "    <tr>\n",
       "      <th>min</th>\n",
       "      <td>0.000000</td>\n",
       "    </tr>\n",
       "    <tr>\n",
       "      <th>25%</th>\n",
       "      <td>0.000000</td>\n",
       "    </tr>\n",
       "    <tr>\n",
       "      <th>50%</th>\n",
       "      <td>0.020000</td>\n",
       "    </tr>\n",
       "    <tr>\n",
       "      <th>75%</th>\n",
       "      <td>0.130000</td>\n",
       "    </tr>\n",
       "    <tr>\n",
       "      <th>max</th>\n",
       "      <td>6.700000</td>\n",
       "    </tr>\n",
       "  </tbody>\n",
       "</table>\n",
       "</div>"
      ],
      "text/plain": [
       "       Precipitation\n",
       "count    2021.000000\n",
       "mean        0.177279\n",
       "std         0.461190\n",
       "min         0.000000\n",
       "25%         0.000000\n",
       "50%         0.020000\n",
       "75%         0.130000\n",
       "max         6.700000"
      ]
     },
     "execution_count": 11,
     "metadata": {},
     "output_type": "execute_result"
    }
   ],
   "source": [
    "# Use Pandas to calculate the summary statistics for the precipitation data\n",
    "precip_df.describe()"
   ]
  },
  {
   "cell_type": "code",
   "execution_count": 13,
   "metadata": {},
   "outputs": [
    {
     "data": {
      "text/plain": [
       "9"
      ]
     },
     "execution_count": 13,
     "metadata": {},
     "output_type": "execute_result"
    }
   ],
   "source": [
    "# Design a query to show how many stations are available in this dataset?\n",
    "station_query = session.query(Measurement.station).all()\n",
    "#station_query[0:5]\n",
    "len(set(station_query))"
   ]
  },
  {
   "cell_type": "code",
   "execution_count": 14,
   "metadata": {},
   "outputs": [
    {
     "name": "stdout",
     "output_type": "stream",
     "text": [
      "             Count\n",
      "Station           \n",
      "USC00519281   2772\n",
      "USC00519397   2724\n",
      "USC00513117   2709\n",
      "USC00519523   2669\n",
      "USC00516128   2612\n",
      "USC00514830   2202\n",
      "USC00511918   1979\n",
      "USC00517948   1372\n",
      "USC00518838    511\n"
     ]
    }
   ],
   "source": [
    "# What are the most active stations? (i.e. what stations have the most rows)?\n",
    "# List the stations and the counts in descending order.\n",
    "active_station = np.array(station_query)\n",
    "unique_element, counts_elements = np.unique(active_station,return_counts=True)\n",
    "#print(unique_element)\n",
    "#print(counts_elements)\n",
    "#print(np.asarray(unique_element,counts_elements))\n",
    "station_count_df = pd.DataFrame({\"Station\":unique_element,\"Count\":counts_elements})\n",
    "station_count_df.sort_values(by='Count',ascending = False, inplace = True)\n",
    "indexed_station = station_count_df.set_index(\"Station\")\n",
    "print(indexed_station)"
   ]
  },
  {
   "cell_type": "code",
   "execution_count": 15,
   "metadata": {},
   "outputs": [
    {
     "name": "stdout",
     "output_type": "stream",
     "text": [
      "USC00519281 max temp: 85.0\n",
      "USC00519281 min temp: 54.0\n",
      "USC00519281 avg temp: 71.66378066378067\n"
     ]
    }
   ],
   "source": [
    "# Using the station id from the previous query, calculate the lowest temperature recorded, \n",
    "# highest temperature recorded, and average temperature of the most active station\n",
    "max_count = indexed_station.max()\n",
    "#print(max_count) #max count to be referenced in index df\n",
    "most_active = list(np.where(indexed_station[\"Count\"] == max_count[0]))\n",
    "station_max_active = indexed_station.iloc[most_active[0]]\n",
    "max_station = str(station_max_active.index[0])\n",
    "#max_station #prints station with largest observations\n",
    "\n",
    "#query based on max_station\n",
    "temp = session.query(Measurement.tobs).\\\n",
    "filter(Measurement.station == max_station).all()\n",
    "#temp\n",
    "\n",
    "#stats of the query\n",
    "maxstation_maxtemp = np.max(temp)\n",
    "maxstation_mintemp = np.min(temp)\n",
    "maxstation_avgtemp = np.mean(temp)\n",
    "\n",
    "print(f'{max_station} max temp: {maxstation_maxtemp}')\n",
    "print(f'{max_station} min temp: {maxstation_mintemp}')\n",
    "print(f'{max_station} avg temp: {maxstation_avgtemp}')"
   ]
  },
  {
   "cell_type": "code",
   "execution_count": 16,
   "metadata": {},
   "outputs": [
    {
     "data": {
      "text/plain": [
       "<matplotlib.axes._subplots.AxesSubplot at 0x208f45dab70>"
      ]
     },
     "execution_count": 16,
     "metadata": {},
     "output_type": "execute_result"
    },
    {
     "data": {
      "image/png": "[encoded data removed]",
      "text/plain": [
       "<Figure size 432x288 with 1 Axes>"
      ]
     },
     "metadata": {
      "needs_background": "light"
     },
     "output_type": "display_data"
    }
   ],
   "source": [
    "# Choose the station with the highest number of temperature observations.\n",
    "# Query the last 12 months of temperature observation data for this station and plot the results as a histogram\n",
    "station_high = session.query(Measurement.date, Measurement.tobs).\\\n",
    "                filter(Measurement.date >= start_date).\\\n",
    "                filter(Measurement.station == max_station).all()\n",
    "#print(station_high)\n",
    "station_high_df = pd.DataFrame(np.array(station_high), columns = ([\"Date\",\"Temp\"]))\n",
    "station_high_df.Temp = station_high_df.Temp.astype(float)\n",
    "station_high_df.set_index(\"Date\")\n",
    "station_high_df.plot.hist(bins=20, density=1, facecolor='b', alpha=0.75)\n"
   ]
  },
  {
   "cell_type": "markdown",
   "metadata": {},
   "source": [
    "![precipitation](Images/station-histogram.png)"
   ]
  },
  {
   "cell_type": "code",
   "execution_count": 17,
   "metadata": {},
   "outputs": [
    {
     "name": "stdout",
     "output_type": "stream",
     "text": [
      "[(62.0, 69.57142857142857, 74.0)]\n"
     ]
    }
   ],
   "source": [
    "# This function called `calc_temps` will accept start date and end date in the format '%Y-%m-%d' \n",
    "# and return the minimum, average, and maximum temperatures for that range of dates\n",
    "def calc_temps(start_date, end_date):\n",
    "    \"\"\"TMIN, TAVG, and TMAX for a list of dates.\n",
    "    \n",
    "    Args:\n",
    "        start_date (string): A date string in the format %Y-%m-%d\n",
    "        end_date (string): A date string in the format %Y-%m-%d\n",
    "        \n",
    "    Returns:\n",
    "        TMIN, TAVE, and TMAX\n",
    "    \"\"\"\n",
    "    \n",
    "    return session.query(func.min(Measurement.tobs), func.avg(Measurement.tobs), func.max(Measurement.tobs)).\\\n",
    "        filter(Measurement.date >= start_date).filter(Measurement.date <= end_date).all()\n",
    "\n",
    "# function usage example\n",
    "print(calc_temps('2012-02-28', '2012-03-05'))"
   ]
  },
  {
   "cell_type": "code",
   "execution_count": 18,
   "metadata": {},
   "outputs": [
    {
     "name": "stdout",
     "output_type": "stream",
     "text": [
      "[(56.0, 72.79413946587538, 86.0)]\n"
     ]
    }
   ],
   "source": [
    "# Use your previous function `calc_temps` to calculate the tmin, tavg, and tmax \n",
    "# for your trip using the previous year's data for those same dates.\n",
    "start_date = '2011-02-28'\n",
    "end_date = '2012-02-23'\n",
    "temp_query = calc_temps(start_date,end_date)\n",
    "print(temp_query)"
   ]
  },
  {
   "cell_type": "code",
   "execution_count": 22,
   "metadata": {},
   "outputs": [
    {
     "name": "stdout",
     "output_type": "stream",
     "text": [
      "Average Temp: 72.79413946587538\n"
     ]
    },
    {
     "data": {
      "image/png": "[encoded data removed]",
      "text/plain": [
       "<Figure size 144x360 with 1 Axes>"
      ]
     },
     "metadata": {
      "needs_background": "light"
     },
     "output_type": "display_data"
    }
   ],
   "source": [
    "# Plot the results from your previous query as a bar chart. \n",
    "# Use \"Trip Avg Temp\" as your Title\n",
    "# Use the average temperature for the y value\n",
    "# Use the peak-to-peak (tmax-tmin) value as the y error bar (yerr)\n",
    "avg_t = temp_query[0][1]\n",
    "max_t = temp_query[0][2]\n",
    "min_t = temp_query[0][0]\n",
    "print(f'Average Temp: {avg_t}')\n",
    "plt.figure(figsize = (2,5))\n",
    "plt.bar(1,avg_t, yerr=(max_t-min_t), tick_label = \"\")\n",
    "plt.ylabel(\"Temperature (F)\")\n",
    "plt.title(\"Trip Avg Temp\")\n",
    "plt.show()"
   ]
  },
  {
   "cell_type": "code",
   "execution_count": 38,
   "metadata": {},
   "outputs": [
    {
     "name": "stdout",
     "output_type": "stream",
     "text": [
      "FULL DATA between 2016-08-23 and 2017-08-23:\n",
      "                   Date  Precipitation                                Name  \\\n",
      "Station                                                                      \n",
      "USC00516128  2016-09-14           6.70        MANOA LYON ARBO 785.2, HI US   \n",
      "USC00519523  2017-04-29           6.25  WAIMANALO EXPERIMENTAL FARM, HI US   \n",
      "USC00519523  2017-02-11           5.04  WAIMANALO EXPERIMENTAL FARM, HI US   \n",
      "USC00516128  2017-07-22           4.00        MANOA LYON ARBO 785.2, HI US   \n",
      "USC00516128  2016-10-04           3.46        MANOA LYON ARBO 785.2, HI US   \n",
      "\n",
      "             Latitude  Longitude  Elevation  \n",
      "Station                                      \n",
      "USC00516128  21.33310 -157.80250      152.4  \n",
      "USC00519523  21.33556 -157.71139       19.5  \n",
      "USC00519523  21.33556 -157.71139       19.5  \n",
      "USC00516128  21.33310 -157.80250      152.4  \n",
      "USC00516128  21.33310 -157.80250      152.4  \n",
      "--------------------------------------------------------------------\n",
      "\n",
      "Average Per Station between 2016-08-23 and 2017-08-23:\n",
      "             Precipitation  Latitude  Longitude  Elevation\n",
      "Station                                                   \n",
      "USC00516128       0.450640  21.33310 -157.80250      152.4\n",
      "USC00519281       0.198949  21.45167 -157.84889       32.9\n",
      "USC00513117       0.141429  21.42340 -157.80150       14.6\n",
      "USC00514830       0.125434  21.52130 -157.83740        7.0\n",
      "USC00519523       0.121051  21.33556 -157.71139       19.5\n",
      "USC00517948       0.076500  21.39340 -157.97510       11.9\n",
      "USC00519397       0.044819  21.27160 -157.81680        3.0\n"
     ]
    }
   ],
   "source": [
    "# Calculate the rainfall per weather station for your trip dates using the previous year's matching dates.\n",
    "# Sort this in descending order by precipitation amount and list the station, name, latitude, longitude, and elevation\n",
    "#Measurement\n",
    "end_date=\"2017-08-23\"\n",
    "start_date=\"2016-08-23\"\n",
    "station1 = []\n",
    "measurement_date = []\n",
    "precip = []\n",
    "\n",
    "# Query to retrieve the data and precipitation scores\n",
    "for row in session.query(Measurement.station, Measurement.date, Measurement.prcp).\\\n",
    "filter(Measurement.date<=end_date,Measurement.date>= start_date).all(): #1 year of data\n",
    "    #print(row)\n",
    "    station1.append(row[0])\n",
    "    measurement_date.append(row[1])\n",
    "    precip.append(row[2])\n",
    "   \n",
    "#Station\n",
    "station2 = []\n",
    "name = []\n",
    "lat = []\n",
    "long = []\n",
    "elev = []\n",
    "\n",
    "#Query to retrieve data and other info. needed\n",
    "for row in session.query(Station.station, Station.name, Station.latitude, Station.longitude, Station.elevation).all():\n",
    "    #print(row)\n",
    "    station2.append(row[0])\n",
    "    name.append(row[1])\n",
    "    lat.append(row[2])\n",
    "    long.append(row[3])\n",
    "    elev.append(row[4])\n",
    "    \n",
    "#One Dataframe to bind them\n",
    "measurement_df = pd.DataFrame({\"Station\":station,\"Date\":measurement_date,\"Precipitation\":precip})\n",
    "station_df = pd.DataFrame({\"Station\":station2,\"Name\":name,\"Latitude\":lat,\"Longitude\":long,\"Elevation\":elev})\n",
    "weather_df = pd.merge(measurement_df,station_df,on='Station')\n",
    "#weather_df.head()\n",
    "\n",
    "#Add a touch of Analysis\n",
    "#individual avg stations\n",
    "fork = weather_df.groupby(\"Station\").mean()\n",
    "fork.sort_values(by='Precipitation',ascending = False, inplace = True)\n",
    "\n",
    "#full data\n",
    "weather_df.sort_values(by='Precipitation',ascending = False, inplace = True)\n",
    "#restructure the index\n",
    "indexed_weather = weather_df.set_index(\"Station\")\n",
    "\n",
    "#print it\n",
    "print(f\"FULL DATA between {min_date} and {max_date}:\")\n",
    "print(indexed_weather.head())\n",
    "print(\"--------------------------------------------------------------------\")\n",
    "print()\n",
    "print(f'Average Per Station between {min_date} and {max_date}:')\n",
    "print(fork)"
   ]
  },
  {
   "cell_type": "markdown",
   "metadata": {},
   "source": [
    "## Optional Challenge Assignment"
   ]
  },
  {
   "cell_type": "code",
   "execution_count": null,
   "metadata": {},
   "outputs": [],
   "source": [
    "# Create a query that will calculate the daily normals \n",
    "# (i.e. the averages for tmin, tmax, and tavg for all historic data matching a specific month and day)\n",
    "\n",
    "def daily_normals(date):\n",
    "    \"\"\"Daily Normals.\n",
    "    \n",
    "    Args:\n",
    "        date (str): A date string in the format '%m-%d'\n",
    "        \n",
    "    Returns:\n",
    "        A list of tuples containing the daily normals, tmin, tavg, and tmax\n",
    "    \n",
    "    \"\"\"\n",
    "    \n",
    "    sel = [func.min(Measurement.tobs), func.avg(Measurement.tobs), func.max(Measurement.tobs)]\n",
    "    return session.query(*sel).filter(func.strftime(\"%m-%d\", Measurement.date) == date).all()\n",
    "    \n",
    "daily_normals(\"01-01\")"
   ]
  },
  {
   "cell_type": "code",
   "execution_count": null,
   "metadata": {},
   "outputs": [],
   "source": [
    "# calculate the daily normals for your trip\n",
    "# push each tuple of calculations into a list called `normals`\n",
    "\n",
    "# Set the start and end date of the trip\n",
    "\n",
    "# Use the start and end date to create a range of dates\n",
    "\n",
    "# Stip off the year and save a list of %m-%d strings\n",
    "\n",
    "# Loop through the list of %m-%d strings and calculate the normals for each date\n"
   ]
  },
  {
   "cell_type": "code",
   "execution_count": null,
   "metadata": {},
   "outputs": [],
   "source": [
    "# Load the previous query results into a Pandas DataFrame and add the `trip_dates` range as the `date` index\n"
   ]
  },
  {
   "cell_type": "code",
   "execution_count": null,
   "metadata": {},
   "outputs": [],
   "source": [
    "# Plot the daily normals as an area plot with `stacked=False`\n"
   ]
  }
 ],
 "metadata": {
  "kernel_info": {
   "name": "python3"
  },
  "kernelspec": {
   "display_name": "Python 3",
   "language": "python",
   "name": "python3"
  },
  "language_info": {
   "codemirror_mode": {
    "name": "ipython",
    "version": 3
   },
   "file_extension": ".py",
   "mimetype": "text/x-python",
   "name": "python",
   "nbconvert_exporter": "python",
   "pygments_lexer": "ipython3",
   "version": "3.6.6"
  },
  "nteract": {
   "version": "0.9.1"
  },
  "varInspector": {
   "cols": {
    "lenName": 16,
    "lenType": 16,
    "lenVar": 40
   },
   "kernels_config": {
    "python": {
     "delete_cmd_postfix": "",
     "delete_cmd_prefix": "del ",
     "library": "var_list.py",
     "varRefreshCmd": "print(var_dic_list())"
    },
    "r": {
     "delete_cmd_postfix": ") ",
     "delete_cmd_prefix": "rm(",
     "library": "var_list.r",
     "varRefreshCmd": "cat(var_dic_list()) "
    }
   },
   "types_to_exclude": [
    "module",
    "function",
    "builtin_function_or_method",
    "instance",
    "_Feature"
   ],
   "window_display": false
  }
 },
 "nbformat": 4,
 "nbformat_minor": 2
}
